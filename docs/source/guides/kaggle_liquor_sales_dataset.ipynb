{
 "cells": [
  {
   "cell_type": "markdown",
   "metadata": {},
   "source": [
    "# Liquor Dataset Example \n",
    "Using Autonormalize to normalize a kaggle dataset about liquor purchasing orders."
   ]
  },
  {
   "cell_type": "markdown",
   "metadata": {},
   "source": [
    "This dataset can be found on kaggle at https://www.kaggle.com/residentmario/iowa-liquor-sales. "
   ]
  },
  {
   "cell_type": "code",
   "execution_count": 2,
   "metadata": {},
   "outputs": [],
   "source": [
    "import os\n",
    "import time\n",
    "\n",
    "import pandas as pd\n",
    "from demo.liquor import load_sample\n",
    "from featuretools.autonormalize import autonormalize as an"
   ]
  },
  {
   "cell_type": "code",
   "execution_count": 4,
   "metadata": {
    "scrolled": true
   },
   "outputs": [
    {
     "name": "stdout",
     "output_type": "stream",
     "text": [
      "Rows: 1000\n",
      "Columns: 12\n"
     ]
    },
    {
     "data": {
      "text/html": [
       "<div>\n",
       "<style scoped>\n",
       "    .dataframe tbody tr th:only-of-type {\n",
       "        vertical-align: middle;\n",
       "    }\n",
       "\n",
       "    .dataframe tbody tr th {\n",
       "        vertical-align: top;\n",
       "    }\n",
       "\n",
       "    .dataframe thead th {\n",
       "        text-align: right;\n",
       "    }\n",
       "</style>\n",
       "<table border=\"1\" class=\"dataframe\">\n",
       "  <thead>\n",
       "    <tr style=\"text-align: right;\">\n",
       "      <th></th>\n",
       "      <th>Invoice/Item Number</th>\n",
       "      <th>Date</th>\n",
       "      <th>Store Number</th>\n",
       "      <th>Store Name</th>\n",
       "      <th>Address</th>\n",
       "      <th>City</th>\n",
       "      <th>Zip Code</th>\n",
       "      <th>Store Location</th>\n",
       "      <th>County Number</th>\n",
       "      <th>County</th>\n",
       "      <th>Category</th>\n",
       "      <th>Category Name</th>\n",
       "    </tr>\n",
       "  </thead>\n",
       "  <tbody>\n",
       "    <tr>\n",
       "      <th>0</th>\n",
       "      <td>S28865700001</td>\n",
       "      <td>11/09/2015</td>\n",
       "      <td>2538</td>\n",
       "      <td>Hy-Vee Food Store #3 / Waterloo</td>\n",
       "      <td>1422 FLAMMANG DR</td>\n",
       "      <td>WATERLOO</td>\n",
       "      <td>50702</td>\n",
       "      <td>1422 FLAMMANG DR\\nWATERLOO 50702\\n(42.459938, ...</td>\n",
       "      <td>7</td>\n",
       "      <td>Black Hawk</td>\n",
       "      <td>1701100</td>\n",
       "      <td>DECANTERS &amp; SPECIALTY PACKAGES</td>\n",
       "    </tr>\n",
       "    <tr>\n",
       "      <th>1</th>\n",
       "      <td>S29339300091</td>\n",
       "      <td>11/30/2015</td>\n",
       "      <td>2662</td>\n",
       "      <td>Hy-Vee Wine &amp; Spirits / Muscatine</td>\n",
       "      <td>522 MULBERRY, SUITE A</td>\n",
       "      <td>MUSCATINE</td>\n",
       "      <td>52761</td>\n",
       "      <td>522 MULBERRY, SUITE A\\nMUSCATINE 52761\\n</td>\n",
       "      <td>70</td>\n",
       "      <td>Muscatine</td>\n",
       "      <td>1701100</td>\n",
       "      <td>DECANTERS &amp; SPECIALTY PACKAGES</td>\n",
       "    </tr>\n",
       "    <tr>\n",
       "      <th>2</th>\n",
       "      <td>S28866900001</td>\n",
       "      <td>11/11/2015</td>\n",
       "      <td>3650</td>\n",
       "      <td>Spirits, Stogies and Stuff</td>\n",
       "      <td>118 South Main St.</td>\n",
       "      <td>HOLSTEIN</td>\n",
       "      <td>51025</td>\n",
       "      <td>118 South Main St.\\nHOLSTEIN 51025\\n(42.490073...</td>\n",
       "      <td>47</td>\n",
       "      <td>Ida</td>\n",
       "      <td>1701100</td>\n",
       "      <td>DECANTERS &amp; SPECIALTY PACKAGES</td>\n",
       "    </tr>\n",
       "  </tbody>\n",
       "</table>\n",
       "</div>"
      ],
      "text/plain": [
       "  Invoice/Item Number        Date  Store Number  \\\n",
       "0        S28865700001  11/09/2015          2538   \n",
       "1        S29339300091  11/30/2015          2662   \n",
       "2        S28866900001  11/11/2015          3650   \n",
       "\n",
       "                          Store Name                Address       City  \\\n",
       "0    Hy-Vee Food Store #3 / Waterloo       1422 FLAMMANG DR   WATERLOO   \n",
       "1  Hy-Vee Wine & Spirits / Muscatine  522 MULBERRY, SUITE A  MUSCATINE   \n",
       "2         Spirits, Stogies and Stuff     118 South Main St.   HOLSTEIN   \n",
       "\n",
       "  Zip Code                                     Store Location  County Number  \\\n",
       "0    50702  1422 FLAMMANG DR\\nWATERLOO 50702\\n(42.459938, ...              7   \n",
       "1    52761           522 MULBERRY, SUITE A\\nMUSCATINE 52761\\n             70   \n",
       "2    51025  118 South Main St.\\nHOLSTEIN 51025\\n(42.490073...             47   \n",
       "\n",
       "       County  Category                   Category Name  \n",
       "0  Black Hawk   1701100  DECANTERS & SPECIALTY PACKAGES  \n",
       "1   Muscatine   1701100  DECANTERS & SPECIALTY PACKAGES  \n",
       "2         Ida   1701100  DECANTERS & SPECIALTY PACKAGES  "
      ]
     },
     "execution_count": 4,
     "metadata": {},
     "output_type": "execute_result"
    }
   ],
   "source": [
    "df = load_sample()\n",
    "print(\"Rows: \"+ str(df.shape[0]))\n",
    "print(\"Columns: \" + str(df.shape[1]))\n",
    "df.head(3)"
   ]
  },
  {
   "cell_type": "code",
   "execution_count": 5,
   "metadata": {
    "scrolled": true
   },
   "outputs": [
    {
     "data": {
      "text/plain": [
       "Invoice/Item Number    object\n",
       "Date                   object\n",
       "Store Number            int64\n",
       "Store Name             object\n",
       "Address                object\n",
       "City                   object\n",
       "Zip Code               object\n",
       "Store Location         object\n",
       "County Number           int64\n",
       "County                 object\n",
       "Category                int64\n",
       "Category Name          object\n",
       "dtype: object"
      ]
     },
     "execution_count": 5,
     "metadata": {},
     "output_type": "execute_result"
    }
   ],
   "source": [
    "df.dtypes\n"
   ]
  },
  {
   "cell_type": "code",
   "execution_count": 6,
   "metadata": {},
   "outputs": [],
   "source": [
    "df = df.astype({\"County Number\": 'int64', \"Category\": 'int64'})"
   ]
  },
  {
   "cell_type": "markdown",
   "metadata": {},
   "source": [
    "We load our data into a pandas dataframe. For the purpose of manageability we keep the first 13 columns and 1000 rows"
   ]
  },
  {
   "cell_type": "code",
   "execution_count": 7,
   "metadata": {},
   "outputs": [
    {
     "name": "stderr",
     "output_type": "stream",
     "text": [
      "100%|██████████| 11/11 [00:08<00:00,  1.32it/s]\n"
     ]
    },
    {
     "data": {
      "text/plain": [
       "17.265804052352905"
      ]
     },
     "execution_count": 7,
     "metadata": {},
     "output_type": "execute_result"
    }
   ],
   "source": [
    "start = time.time()\n",
    "entityset = an.auto_entityset(df, accuracy=0.96, name='liquor orders')\n",
    "time.time() - start"
   ]
  },
  {
   "cell_type": "markdown",
   "metadata": {},
   "source": [
    "To detect the dependencies, normalize the data and create an entity set all at once, all we need to do is call an.auto_entityset(). We pass 96% as the desired accuracy, and 'liquor orders\" as the desired name for our entity set. This takes around around 10 seconds for 1000 rows and around 10 minutes for 1.5 million rows"
   ]
  },
  {
   "cell_type": "code",
   "execution_count": 8,
   "metadata": {
    "scrolled": false
   },
   "outputs": [
    {
     "data": {
      "image/svg+xml": "<?xml version=\"1.0\" encoding=\"UTF-8\" standalone=\"no\"?>\n<!DOCTYPE svg PUBLIC \"-//W3C//DTD SVG 1.1//EN\"\n \"http://www.w3.org/Graphics/SVG/1.1/DTD/svg11.dtd\">\n<!-- Generated by graphviz version 2.49.3 (20211023.0002)\n -->\n<!-- Title: liquor orders Pages: 1 -->\n<svg width=\"419pt\" height=\"635pt\"\n viewBox=\"0.00 0.00 419.00 635.00\" xmlns=\"http://www.w3.org/2000/svg\" xmlns:xlink=\"http://www.w3.org/1999/xlink\">\n<g id=\"graph0\" class=\"graph\" transform=\"scale(1 1) rotate(0) translate(4 631)\">\n<title>liquor orders</title>\n<polygon fill=\"white\" stroke=\"transparent\" points=\"-4,4 -4,-631 415,-631 415,4 -4,4\"/>\n<!-- Invoice/Item Number -->\n<g id=\"node1\" class=\"node\">\n<title>Invoice/Item Number</title>\n<polygon fill=\"none\" stroke=\"black\" points=\"99.5,-565.5 99.5,-626.5 341.5,-626.5 341.5,-565.5 99.5,-565.5\"/>\n<text text-anchor=\"middle\" x=\"220.5\" y=\"-611.3\" font-family=\"Times,serif\" font-size=\"14.00\">Invoice/Item Number (1000 rows)</text>\n<polyline fill=\"none\" stroke=\"black\" points=\"99.5,-603.5 341.5,-603.5 \"/>\n<text text-anchor=\"start\" x=\"107.5\" y=\"-588.3\" font-family=\"Times,serif\" font-size=\"14.00\">Invoice/Item Number : Unknown; index</text>\n<text text-anchor=\"start\" x=\"107.5\" y=\"-573.3\" font-family=\"Times,serif\" font-size=\"14.00\">Category_Date : Integer; foreign_key</text>\n</g>\n<!-- Category_Date -->\n<g id=\"node2\" class=\"node\">\n<title>Category_Date</title>\n<polygon fill=\"none\" stroke=\"black\" points=\"110,-437.5 110,-528.5 331,-528.5 331,-437.5 110,-437.5\"/>\n<text text-anchor=\"middle\" x=\"220.5\" y=\"-513.3\" font-family=\"Times,serif\" font-size=\"14.00\">Category_Date (968 rows)</text>\n<polyline fill=\"none\" stroke=\"black\" points=\"110,-505.5 331,-505.5 \"/>\n<text text-anchor=\"start\" x=\"118\" y=\"-490.3\" font-family=\"Times,serif\" font-size=\"14.00\">Category_Date : Integer; index</text>\n<text text-anchor=\"start\" x=\"118\" y=\"-475.3\" font-family=\"Times,serif\" font-size=\"14.00\">Date : Datetime</text>\n<text text-anchor=\"start\" x=\"118\" y=\"-460.3\" font-family=\"Times,serif\" font-size=\"14.00\">Store Number : Integer; foreign_key</text>\n<text text-anchor=\"start\" x=\"118\" y=\"-445.3\" font-family=\"Times,serif\" font-size=\"14.00\">Category : Integer; foreign_key</text>\n</g>\n<!-- Invoice/Item Number&#45;&gt;Category_Date -->\n<g id=\"edge1\" class=\"edge\">\n<title>Invoice/Item Number&#45;&gt;Category_Date</title>\n<path fill=\"none\" stroke=\"black\" d=\"M220.5,-565.42C220.5,-565.42 220.5,-538.89 220.5,-538.89\"/>\n<polygon fill=\"black\" stroke=\"black\" points=\"224,-538.89 220.5,-528.89 217,-538.89 224,-538.89\"/>\n<text text-anchor=\"middle\" x=\"178\" y=\"-540.96\" font-family=\"Times,serif\" font-size=\"14.00\">Category_Date</text>\n</g>\n<!-- Store Number -->\n<g id=\"node3\" class=\"node\">\n<title>Store Number</title>\n<polygon fill=\"none\" stroke=\"black\" points=\"11.5,-294.5 11.5,-400.5 221.5,-400.5 221.5,-294.5 11.5,-294.5\"/>\n<text text-anchor=\"middle\" x=\"116.5\" y=\"-385.3\" font-family=\"Times,serif\" font-size=\"14.00\">Store Number (537 rows)</text>\n<polyline fill=\"none\" stroke=\"black\" points=\"11.5,-377.5 221.5,-377.5 \"/>\n<text text-anchor=\"start\" x=\"19.5\" y=\"-362.3\" font-family=\"Times,serif\" font-size=\"14.00\">Store Number : Integer; index</text>\n<text text-anchor=\"start\" x=\"19.5\" y=\"-347.3\" font-family=\"Times,serif\" font-size=\"14.00\">Store Name : Unknown</text>\n<text text-anchor=\"start\" x=\"19.5\" y=\"-332.3\" font-family=\"Times,serif\" font-size=\"14.00\">Address : Unknown</text>\n<text text-anchor=\"start\" x=\"19.5\" y=\"-317.3\" font-family=\"Times,serif\" font-size=\"14.00\">Zip Code : Unknown; foreign_key</text>\n<text text-anchor=\"start\" x=\"19.5\" y=\"-302.3\" font-family=\"Times,serif\" font-size=\"14.00\">Store Location : Unknown</text>\n</g>\n<!-- Category_Date&#45;&gt;Store Number -->\n<g id=\"edge3\" class=\"edge\">\n<title>Category_Date&#45;&gt;Store Number</title>\n<path fill=\"none\" stroke=\"black\" d=\"M165.75,-437.13C165.75,-437.13 165.75,-410.81 165.75,-410.81\"/>\n<polygon fill=\"black\" stroke=\"black\" points=\"169.25,-410.81 165.75,-400.81 162.25,-410.81 169.25,-410.81\"/>\n<text text-anchor=\"middle\" x=\"126.25\" y=\"-412.77\" font-family=\"Times,serif\" font-size=\"14.00\">Store Number</text>\n</g>\n<!-- Category -->\n<g id=\"node7\" class=\"node\">\n<title>Category</title>\n<polygon fill=\"none\" stroke=\"black\" points=\"240,-317 240,-378 411,-378 411,-317 240,-317\"/>\n<text text-anchor=\"middle\" x=\"325.5\" y=\"-362.8\" font-family=\"Times,serif\" font-size=\"14.00\">Category (56 rows)</text>\n<polyline fill=\"none\" stroke=\"black\" points=\"240,-355 411,-355 \"/>\n<text text-anchor=\"start\" x=\"248\" y=\"-339.8\" font-family=\"Times,serif\" font-size=\"14.00\">Category : Integer; index</text>\n<text text-anchor=\"start\" x=\"248\" y=\"-324.8\" font-family=\"Times,serif\" font-size=\"14.00\">Category Name : Unknown</text>\n</g>\n<!-- Category_Date&#45;&gt;Category -->\n<g id=\"edge2\" class=\"edge\">\n<title>Category_Date&#45;&gt;Category</title>\n<path fill=\"none\" stroke=\"black\" d=\"M285.5,-437.13C285.5,-437.13 285.5,-388.4 285.5,-388.4\"/>\n<polygon fill=\"black\" stroke=\"black\" points=\"289,-388.4 285.5,-378.4 282,-388.4 289,-388.4\"/>\n<text text-anchor=\"middle\" x=\"259.5\" y=\"-416.56\" font-family=\"Times,serif\" font-size=\"14.00\">Category</text>\n</g>\n<!-- Zip Code -->\n<g id=\"node4\" class=\"node\">\n<title>Zip Code</title>\n<polygon fill=\"none\" stroke=\"black\" points=\"25.5,-196.5 25.5,-257.5 207.5,-257.5 207.5,-196.5 25.5,-196.5\"/>\n<text text-anchor=\"middle\" x=\"116.5\" y=\"-242.3\" font-family=\"Times,serif\" font-size=\"14.00\">Zip Code (229 rows)</text>\n<polyline fill=\"none\" stroke=\"black\" points=\"25.5,-234.5 207.5,-234.5 \"/>\n<text text-anchor=\"start\" x=\"33.5\" y=\"-219.3\" font-family=\"Times,serif\" font-size=\"14.00\">City : Unknown; foreign_key</text>\n<text text-anchor=\"start\" x=\"33.5\" y=\"-204.3\" font-family=\"Times,serif\" font-size=\"14.00\">Zip Code : Unknown; index</text>\n</g>\n<!-- Store Number&#45;&gt;Zip Code -->\n<g id=\"edge4\" class=\"edge\">\n<title>Store Number&#45;&gt;Zip Code</title>\n<path fill=\"none\" stroke=\"black\" d=\"M116.5,-294.3C116.5,-294.3 116.5,-267.8 116.5,-267.8\"/>\n<polygon fill=\"black\" stroke=\"black\" points=\"120,-267.8 116.5,-257.8 113,-267.8 120,-267.8\"/>\n<text text-anchor=\"middle\" x=\"90\" y=\"-269.85\" font-family=\"Times,serif\" font-size=\"14.00\">Zip Code</text>\n</g>\n<!-- City -->\n<g id=\"node5\" class=\"node\">\n<title>City</title>\n<polygon fill=\"none\" stroke=\"black\" points=\"0,-98.5 0,-159.5 233,-159.5 233,-98.5 0,-98.5\"/>\n<text text-anchor=\"middle\" x=\"116.5\" y=\"-144.3\" font-family=\"Times,serif\" font-size=\"14.00\">City (190 rows)</text>\n<polyline fill=\"none\" stroke=\"black\" points=\"0,-136.5 233,-136.5 \"/>\n<text text-anchor=\"start\" x=\"8\" y=\"-121.3\" font-family=\"Times,serif\" font-size=\"14.00\">City : Unknown; index</text>\n<text text-anchor=\"start\" x=\"8\" y=\"-106.3\" font-family=\"Times,serif\" font-size=\"14.00\">County Number : Integer; foreign_key</text>\n</g>\n<!-- Zip Code&#45;&gt;City -->\n<g id=\"edge5\" class=\"edge\">\n<title>Zip Code&#45;&gt;City</title>\n<path fill=\"none\" stroke=\"black\" d=\"M116.5,-196.26C116.5,-196.26 116.5,-169.63 116.5,-169.63\"/>\n<polygon fill=\"black\" stroke=\"black\" points=\"120,-169.63 116.5,-159.63 113,-169.63 120,-169.63\"/>\n<text text-anchor=\"middle\" x=\"104\" y=\"-171.75\" font-family=\"Times,serif\" font-size=\"14.00\">City</text>\n</g>\n<!-- County Number -->\n<g id=\"node6\" class=\"node\">\n<title>County Number</title>\n<polygon fill=\"none\" stroke=\"black\" points=\"18.5,-0.5 18.5,-61.5 214.5,-61.5 214.5,-0.5 18.5,-0.5\"/>\n<text text-anchor=\"middle\" x=\"116.5\" y=\"-46.3\" font-family=\"Times,serif\" font-size=\"14.00\">County Number (86 rows)</text>\n<polyline fill=\"none\" stroke=\"black\" points=\"18.5,-38.5 214.5,-38.5 \"/>\n<text text-anchor=\"start\" x=\"26.5\" y=\"-23.3\" font-family=\"Times,serif\" font-size=\"14.00\">County Number : Integer; index</text>\n<text text-anchor=\"start\" x=\"26.5\" y=\"-8.3\" font-family=\"Times,serif\" font-size=\"14.00\">County : Unknown</text>\n</g>\n<!-- City&#45;&gt;County Number -->\n<g id=\"edge6\" class=\"edge\">\n<title>City&#45;&gt;County Number</title>\n<path fill=\"none\" stroke=\"black\" d=\"M116.5,-98.26C116.5,-98.26 116.5,-71.63 116.5,-71.63\"/>\n<polygon fill=\"black\" stroke=\"black\" points=\"120,-71.63 116.5,-61.63 113,-71.63 120,-71.63\"/>\n<text text-anchor=\"middle\" x=\"71\" y=\"-73.75\" font-family=\"Times,serif\" font-size=\"14.00\">County Number</text>\n</g>\n</g>\n</svg>\n",
      "text/plain": [
       "<graphviz.graphs.Digraph at 0x7fcec07bb730>"
      ]
     },
     "execution_count": 8,
     "metadata": {},
     "output_type": "execute_result"
    }
   ],
   "source": [
    "entityset.plot()"
   ]
  },
  {
   "cell_type": "markdown",
   "metadata": {},
   "source": [
    "Above you can see plotted the entities within entityset, and the relationships between them. Each entity contains the data from the original df with duplication removed. "
   ]
  },
  {
   "cell_type": "code",
   "execution_count": 9,
   "metadata": {},
   "outputs": [
    {
     "data": {
      "text/plain": [
       "Entityset: liquor orders\n",
       "  DataFrames:\n",
       "    Invoice/Item Number [Rows: 1000, Columns: 2]\n",
       "    Category_Date [Rows: 968, Columns: 4]\n",
       "    Store Number [Rows: 537, Columns: 5]\n",
       "    Zip Code [Rows: 229, Columns: 2]\n",
       "    City [Rows: 190, Columns: 2]\n",
       "    County Number [Rows: 86, Columns: 2]\n",
       "    Category [Rows: 56, Columns: 2]\n",
       "  Relationships:\n",
       "    Invoice/Item Number.Category_Date -> Category_Date.Category_Date\n",
       "    Category_Date.Category -> Category.Category\n",
       "    Category_Date.Store Number -> Store Number.Store Number\n",
       "    Store Number.Zip Code -> Zip Code.Zip Code\n",
       "    Zip Code.City -> City.City\n",
       "    City.County Number -> County Number.County Number"
      ]
     },
     "execution_count": 9,
     "metadata": {},
     "output_type": "execute_result"
    }
   ],
   "source": [
    "entityset"
   ]
  },
  {
   "cell_type": "code",
   "execution_count": null,
   "metadata": {},
   "outputs": [],
   "source": []
  }
 ],
 "metadata": {
  "kernelspec": {
   "display_name": "Python 3",
   "language": "python",
   "name": "python3"
  },
  "language_info": {
   "codemirror_mode": {
    "name": "ipython",
    "version": 3
   },
   "file_extension": ".py",
   "mimetype": "text/x-python",
   "name": "python",
   "nbconvert_exporter": "python",
   "pygments_lexer": "ipython3",
   "version": "3.8.5"
  }
 },
 "nbformat": 4,
 "nbformat_minor": 2
}

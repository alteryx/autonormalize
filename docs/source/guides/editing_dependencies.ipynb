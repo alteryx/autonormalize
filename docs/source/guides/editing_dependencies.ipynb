{
 "cells": [
  {
   "cell_type": "markdown",
   "metadata": {},
   "source": [
    "# Demo with Editing Dependencies"
   ]
  },
  {
   "cell_type": "markdown",
   "metadata": {},
   "source": [
    "This is a quick demo for a situation where you may want to edit the dependencies AutoNormalize discovers. In this example, extra dependencies are detected due to lack of data. "
   ]
  },
  {
   "cell_type": "code",
   "execution_count": 1,
   "metadata": {},
   "outputs": [],
   "source": [
    "import pandas as pd\n",
    "from featuretools.autonormalize import autonormalize as an"
   ]
  },
  {
   "cell_type": "code",
   "execution_count": 2,
   "metadata": {
    "scrolled": true
   },
   "outputs": [
    {
     "data": {
      "text/html": [
       "<div>\n",
       "<style scoped>\n",
       "    .dataframe tbody tr th:only-of-type {\n",
       "        vertical-align: middle;\n",
       "    }\n",
       "\n",
       "    .dataframe tbody tr th {\n",
       "        vertical-align: top;\n",
       "    }\n",
       "\n",
       "    .dataframe thead th {\n",
       "        text-align: right;\n",
       "    }\n",
       "</style>\n",
       "<table border=\"1\" class=\"dataframe\">\n",
       "  <thead>\n",
       "    <tr style=\"text-align: right;\">\n",
       "      <th></th>\n",
       "      <th>team</th>\n",
       "      <th>city</th>\n",
       "      <th>state</th>\n",
       "      <th>roster_size</th>\n",
       "    </tr>\n",
       "  </thead>\n",
       "  <tbody>\n",
       "    <tr>\n",
       "      <th>0</th>\n",
       "      <td>tigers</td>\n",
       "      <td>boston</td>\n",
       "      <td>MA</td>\n",
       "      <td>20</td>\n",
       "    </tr>\n",
       "    <tr>\n",
       "      <th>1</th>\n",
       "      <td>elephants</td>\n",
       "      <td>chicago</td>\n",
       "      <td>IL</td>\n",
       "      <td>21</td>\n",
       "    </tr>\n",
       "    <tr>\n",
       "      <th>2</th>\n",
       "      <td>foxes</td>\n",
       "      <td>miami</td>\n",
       "      <td>FL</td>\n",
       "      <td>20</td>\n",
       "    </tr>\n",
       "    <tr>\n",
       "      <th>3</th>\n",
       "      <td>snakes</td>\n",
       "      <td>austin</td>\n",
       "      <td>TX</td>\n",
       "      <td>20</td>\n",
       "    </tr>\n",
       "    <tr>\n",
       "      <th>4</th>\n",
       "      <td>dolphins</td>\n",
       "      <td>honolulu</td>\n",
       "      <td>HI</td>\n",
       "      <td>19</td>\n",
       "    </tr>\n",
       "    <tr>\n",
       "      <th>5</th>\n",
       "      <td>eagles</td>\n",
       "      <td>houston</td>\n",
       "      <td>TX</td>\n",
       "      <td>21</td>\n",
       "    </tr>\n",
       "  </tbody>\n",
       "</table>\n",
       "</div>"
      ],
      "text/plain": [
       "        team      city state  roster_size\n",
       "0     tigers    boston    MA           20\n",
       "1  elephants   chicago    IL           21\n",
       "2      foxes     miami    FL           20\n",
       "3     snakes    austin    TX           20\n",
       "4   dolphins  honolulu    HI           19\n",
       "5     eagles   houston    TX           21"
      ]
     },
     "execution_count": 2,
     "metadata": {},
     "output_type": "execute_result"
    }
   ],
   "source": [
    "rows = [['tigers', 'boston', 'MA', 20],\n",
    "       ['elephants', 'chicago', 'IL', 21],\n",
    "       ['foxes', 'miami', 'FL', 20],\n",
    "       ['snakes', 'austin', 'TX', 20],\n",
    "       ['dolphins', 'honolulu', 'HI', 19],\n",
    "       ['eagles', 'houston', 'TX', 21]]\n",
    "df = pd.DataFrame(rows, columns=['team', 'city', 'state', 'roster_size'])\n",
    "df"
   ]
  },
  {
   "cell_type": "markdown",
   "metadata": {},
   "source": [
    "As you can see, because we have such little data, there is only one team represented per city. Logically, we know that there can be more than one team per city, but the algorithm doesn't. Thus it detects the dependencies {city} --> team, and {city} --> roster_size. "
   ]
  },
  {
   "cell_type": "code",
   "execution_count": 3,
   "metadata": {},
   "outputs": [
    {
     "name": "stderr",
     "output_type": "stream",
     "text": [
      "100%|██████████| 2/2 [00:00<00:00, 318.27it/s]"
     ]
    },
    {
     "name": "stdout",
     "output_type": "stream",
     "text": [
      " {city}  --> team\n",
      " {team}  --> city\n",
      " {team}  {city}  --> state\n",
      " {team}  {city}  --> roster_size\n"
     ]
    },
    {
     "name": "stderr",
     "output_type": "stream",
     "text": [
      "\n"
     ]
    }
   ],
   "source": [
    "deps = an.find_dependencies(df)\n",
    "print(deps)"
   ]
  },
  {
   "cell_type": "markdown",
   "metadata": {},
   "source": [
    "Because we logically know this is incorrect, we just remove these dependencies before proceeding to normalization and creating our `EntitySet`."
   ]
  },
  {
   "cell_type": "code",
   "execution_count": 4,
   "metadata": {},
   "outputs": [
    {
     "name": "stdout",
     "output_type": "stream",
     "text": [
      " --> team\n",
      " {team}  --> city\n",
      " {team}  {city}  --> state\n",
      " {team}  --> roster_size\n"
     ]
    }
   ],
   "source": [
    "deps.remove_dep('team', ['city'])\n",
    "deps.remove_dep('roster_size', ['city'])\n",
    "print(deps)"
   ]
  },
  {
   "cell_type": "code",
   "execution_count": 5,
   "metadata": {},
   "outputs": [
    {
     "data": {
      "image/svg+xml": [
       "<?xml version=\"1.0\" encoding=\"UTF-8\" standalone=\"no\"?>\n",
       "<!DOCTYPE svg PUBLIC \"-//W3C//DTD SVG 1.1//EN\"\n",
       " \"http://www.w3.org/Graphics/SVG/1.1/DTD/svg11.dtd\">\n",
       "<!-- Generated by graphviz version 2.47.1 (20210417.1919)\n",
       " -->\n",
       "<!-- Pages: 1 -->\n",
       "<svg width=\"182pt\" height=\"183pt\"\n",
       " viewBox=\"0.00 0.00 182.00 183.00\" xmlns=\"http://www.w3.org/2000/svg\" xmlns:xlink=\"http://www.w3.org/1999/xlink\">\n",
       "<g id=\"graph0\" class=\"graph\" transform=\"scale(1 1) rotate(0) translate(4 179)\">\n",
       "<polygon fill=\"white\" stroke=\"transparent\" points=\"-4,4 -4,-179 178,-179 178,4 -4,4\"/>\n",
       "<!-- team -->\n",
       "<g id=\"node1\" class=\"node\">\n",
       "<title>team</title>\n",
       "<polygon fill=\"none\" stroke=\"black\" points=\"0,-98.5 0,-174.5 174,-174.5 174,-98.5 0,-98.5\"/>\n",
       "<text text-anchor=\"middle\" x=\"87\" y=\"-159.3\" font-family=\"Times,serif\" font-size=\"14.00\">team (6 rows)</text>\n",
       "<polyline fill=\"none\" stroke=\"black\" points=\"0,-151.5 174,-151.5 \"/>\n",
       "<text text-anchor=\"start\" x=\"8\" y=\"-136.3\" font-family=\"Times,serif\" font-size=\"14.00\">team : Unknown; index</text>\n",
       "<text text-anchor=\"start\" x=\"8\" y=\"-121.3\" font-family=\"Times,serif\" font-size=\"14.00\">city : Unknown; foreign_key</text>\n",
       "<text text-anchor=\"start\" x=\"8\" y=\"-106.3\" font-family=\"Times,serif\" font-size=\"14.00\">roster_size : Integer</text>\n",
       "</g>\n",
       "<!-- city -->\n",
       "<g id=\"node2\" class=\"node\">\n",
       "<title>city</title>\n",
       "<polygon fill=\"none\" stroke=\"black\" points=\"17.5,-0.5 17.5,-61.5 156.5,-61.5 156.5,-0.5 17.5,-0.5\"/>\n",
       "<text text-anchor=\"middle\" x=\"87\" y=\"-46.3\" font-family=\"Times,serif\" font-size=\"14.00\">city (6 rows)</text>\n",
       "<polyline fill=\"none\" stroke=\"black\" points=\"17.5,-38.5 156.5,-38.5 \"/>\n",
       "<text text-anchor=\"start\" x=\"25.5\" y=\"-23.3\" font-family=\"Times,serif\" font-size=\"14.00\">city : Unknown; index</text>\n",
       "<text text-anchor=\"start\" x=\"25.5\" y=\"-8.3\" font-family=\"Times,serif\" font-size=\"14.00\">state : Unknown</text>\n",
       "</g>\n",
       "<!-- team&#45;&gt;city -->\n",
       "<g id=\"edge1\" class=\"edge\">\n",
       "<title>team&#45;&gt;city</title>\n",
       "<path fill=\"none\" stroke=\"black\" d=\"M87,-98.41C87,-98.41 87,-71.76 87,-71.76\"/>\n",
       "<polygon fill=\"black\" stroke=\"black\" points=\"90.5,-71.76 87,-61.76 83.5,-71.76 90.5,-71.76\"/>\n",
       "<text text-anchor=\"middle\" x=\"76.5\" y=\"-73.89\" font-family=\"Times,serif\" font-size=\"14.00\">city</text>\n",
       "</g>\n",
       "</g>\n",
       "</svg>\n"
      ],
      "text/plain": [
       "<graphviz.dot.Digraph at 0x1388a2fa0>"
      ]
     },
     "execution_count": 5,
     "metadata": {},
     "output_type": "execute_result"
    }
   ],
   "source": [
    "es = an.make_entityset(df, deps)\n",
    "es.plot()"
   ]
  }
 ],
 "metadata": {
  "kernelspec": {
   "display_name": "Python 3",
   "language": "python",
   "name": "python3"
  },
  "language_info": {
   "codemirror_mode": {
    "name": "ipython",
    "version": 3
   },
   "file_extension": ".py",
   "mimetype": "text/x-python",
   "name": "python",
   "nbconvert_exporter": "python",
   "pygments_lexer": "ipython3",
   "version": "3.8.9"
  }
 },
 "nbformat": 4,
 "nbformat_minor": 2
}

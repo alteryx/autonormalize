{
 "cells": [
  {
   "cell_type": "markdown",
   "metadata": {},
   "source": [
    "# Demo with Editing Dependencies"
   ]
  },
  {
   "cell_type": "markdown",
   "metadata": {},
   "source": [
    "This is a quick demo for a situation where you may want to edit the dependencies AutoNormalize discovers. In this example, extra dependencies are detected due to lack of data. "
   ]
  },
  {
   "cell_type": "code",
   "execution_count": null,
   "metadata": {},
   "outputs": [],
   "source": [
    "import pandas as pd\n",
    "from featuretools.autonormalize import autonormalize as an"
   ]
  },
  {
   "cell_type": "code",
   "execution_count": null,
   "metadata": {},
   "outputs": [],
   "source": [
    "rows = [\n",
    "    [\"tigers\", \"boston\", \"MA\", 20],\n",
    "    [\"elephants\", \"chicago\", \"IL\", 21],\n",
    "    [\"foxes\", \"miami\", \"FL\", 20],\n",
    "    [\"snakes\", \"austin\", \"TX\", 20],\n",
    "    [\"dolphins\", \"honolulu\", \"HI\", 19],\n",
    "    [\"eagles\", \"houston\", \"TX\", 21],\n",
    "]\n",
    "df = pd.DataFrame(rows, columns=[\"team\", \"city\", \"state\", \"roster_size\"])\n",
    "df"
   ]
  },
  {
   "cell_type": "markdown",
   "metadata": {},
   "source": [
    "As you can see, because we have such little data, there is only one team represented per city. Logically, we know that there can be more than one team per city, but the algorithm doesn't. Thus it detects the dependencies {city} --> team, and {city} --> roster_size. "
   ]
  },
  {
   "cell_type": "code",
   "execution_count": null,
   "metadata": {},
   "outputs": [],
   "source": [
    "deps = an.find_dependencies(df)\n",
    "print(deps)"
   ]
  },
  {
   "cell_type": "markdown",
   "metadata": {},
   "source": [
    "Because we logically know this is incorrect, we just remove these dependencies before proceeding to normalization and creating our `EntitySet`."
   ]
  },
  {
   "cell_type": "code",
   "execution_count": null,
   "metadata": {},
   "outputs": [],
   "source": [
    "deps.remove_dep(\"team\", [\"city\"])\n",
    "deps.remove_dep(\"roster_size\", [\"city\"])\n",
    "print(deps)"
   ]
  },
  {
   "cell_type": "code",
   "execution_count": null,
   "metadata": {},
   "outputs": [],
   "source": [
    "es = an.make_entityset(df, deps)\n",
    "es.plot()"
   ]
  }
 ],
 "metadata": {
  "kernelspec": {
   "display_name": "Python 3",
   "language": "python",
   "name": "python3"
  },
  "language_info": {
   "codemirror_mode": {
    "name": "ipython",
    "version": 3
   },
   "file_extension": ".py",
   "mimetype": "text/x-python",
   "name": "python",
   "nbconvert_exporter": "python",
   "pygments_lexer": "ipython3",
   "version": "3.8.9"
  }
 },
 "nbformat": 4,
 "nbformat_minor": 2
}
